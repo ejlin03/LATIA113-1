{
  "nbformat": 4,
  "nbformat_minor": 0,
  "metadata": {
    "colab": {
      "provenance": []
    },
    "kernelspec": {
      "name": "python3",
      "display_name": "Python 3"
    },
    "language_info": {
      "name": "python"
    }
  },
  "cells": [
    {
      "cell_type": "markdown",
      "source": [
        "<h1>HW0919</h1>"
      ],
      "metadata": {
        "id": "4o6NJsEdnINW"
      }
    },
    {
      "cell_type": "code",
      "execution_count": null,
      "metadata": {
        "id": "Cz_itdnpTbPJ"
      },
      "outputs": [],
      "source": [
        "print(\"Hello World\")"
      ]
    },
    {
      "cell_type": "code",
      "source": [
        "a = 1\n",
        "b = c = a\n",
        "print(a,b,c)"
      ],
      "metadata": {
        "colab": {
          "base_uri": "https://localhost:8080/"
        },
        "id": "Do8jxLbeTcli",
        "outputId": "752bc547-e3b9-4d76-da76-9efe834e549f"
      },
      "execution_count": null,
      "outputs": [
        {
          "output_type": "stream",
          "name": "stdout",
          "text": [
            "1 1 1\n"
          ]
        }
      ]
    },
    {
      "cell_type": "code",
      "source": [
        "a = 2\n",
        "b = a\n",
        "print(a,b)"
      ],
      "metadata": {
        "colab": {
          "base_uri": "https://localhost:8080/"
        },
        "id": "9GaR4gXPUERC",
        "outputId": "a0927d40-9843-4843-ce6e-78059c4db175"
      },
      "execution_count": null,
      "outputs": [
        {
          "output_type": "stream",
          "name": "stdout",
          "text": [
            "2 2\n"
          ]
        }
      ]
    },
    {
      "cell_type": "markdown",
      "source": [
        "<h1>list</h1>"
      ],
      "metadata": {
        "id": "s5TUEDcqtYr9"
      }
    },
    {
      "cell_type": "code",
      "source": [
        "a = \"JIGDSOKF\"\n",
        "print(a)"
      ],
      "metadata": {
        "colab": {
          "base_uri": "https://localhost:8080/"
        },
        "id": "ifKkGgQcUS3K",
        "outputId": "8792fc18-5250-49df-d7b3-856ead56cc47"
      },
      "execution_count": null,
      "outputs": [
        {
          "output_type": "stream",
          "name": "stdout",
          "text": [
            "JIGDSOKF\n"
          ]
        }
      ]
    },
    {
      "cell_type": "code",
      "source": [
        "a = '0123456789abcdef'\n",
        "print(a[0])\n",
        "print(a[3])\n",
        "print(a[-1])\n",
        "print(a[:])\n",
        "print(a[5:])\n",
        "print(a[:5])\n",
        "print(a[5:10])\n",
        "print(a[5:-3])\n",
        "print(a[5:10:2])"
      ],
      "metadata": {
        "colab": {
          "base_uri": "https://localhost:8080/"
        },
        "id": "5ET-8xAlU0vV",
        "outputId": "6e0bd99a-54c8-4bff-9bd5-26fb385e3483"
      },
      "execution_count": null,
      "outputs": [
        {
          "output_type": "stream",
          "name": "stdout",
          "text": [
            "0\n",
            "3\n",
            "f\n",
            "0123456789abcdef\n",
            "56789abcdef\n",
            "01234\n",
            "56789\n",
            "56789abc\n",
            "579\n"
          ]
        }
      ]
    },
    {
      "cell_type": "code",
      "source": [
        "a = ['apple','banana','orange']\n",
        "b = ['1,2,3,4,5']\n",
        "c = ['apple',1,2,3,'dog','cat']\n",
        "d = list('apple')\n",
        "print(a,b,c,d)"
      ],
      "metadata": {
        "colab": {
          "base_uri": "https://localhost:8080/"
        },
        "id": "HFtqKIg8bdg7",
        "outputId": "0051f9c2-fc61-43c8-e439-4ad82675b0a9"
      },
      "execution_count": 12,
      "outputs": [
        {
          "output_type": "stream",
          "name": "stdout",
          "text": [
            "['apple', 'banana', 'orange'] ['1,2,3,4,5'] ['apple', 1, 2, 3, 'dog', 'cat'] ['a', 'p', 'p', 'l', 'e']\n"
          ]
        }
      ]
    },
    {
      "cell_type": "markdown",
      "source": [
        "<h1>string/split</h1>"
      ],
      "metadata": {
        "id": "1Tp0en2etNeU"
      }
    },
    {
      "cell_type": "code",
      "source": [
        "a = 'hello world'\n",
        "print(len(a))"
      ],
      "metadata": {
        "colab": {
          "base_uri": "https://localhost:8080/"
        },
        "id": "4-YNwAOcW9vO",
        "outputId": "02cce5f7-8137-4ea6-818f-9b17eb9e36b1"
      },
      "execution_count": 9,
      "outputs": [
        {
          "output_type": "stream",
          "name": "stdout",
          "text": [
            "11\n"
          ]
        }
      ]
    },
    {
      "cell_type": "code",
      "source": [
        "a = 'hello world, I am oxxo, how are you?'\n",
        "b = a.split(',')\n",
        "c = a.split(' ')\n",
        "d = a.split()\n",
        "print(b)\n",
        "print(c)\n",
        "print(d)"
      ],
      "metadata": {
        "colab": {
          "base_uri": "https://localhost:8080/"
        },
        "id": "-NGLbX6tXB4H",
        "outputId": "a24699ef-72c3-4f4d-a825-b3c6eddb0454"
      },
      "execution_count": 11,
      "outputs": [
        {
          "output_type": "stream",
          "name": "stdout",
          "text": [
            "['hello world', ' I am oxxo', ' how are you?']\n",
            "['hello', 'world,', 'I', 'am', 'oxxo,', 'how', 'are', 'you?']\n",
            "['hello', 'world,', 'I', 'am', 'oxxo,', 'how', 'are', 'you?']\n"
          ]
        }
      ]
    },
    {
      "cell_type": "markdown",
      "source": [
        "<h1>tuple</h1>"
      ],
      "metadata": {
        "id": "qoZGVEOVtKH0"
      }
    },
    {
      "cell_type": "code",
      "source": [
        "t = ('apple','banana','orange','grape')\n",
        "a, b, c, d = t\n",
        "print(a)\n",
        "print(b)\n",
        "print(c)\n",
        "print(d)"
      ],
      "metadata": {
        "colab": {
          "base_uri": "https://localhost:8080/"
        },
        "id": "qKUbJu-1b9Em",
        "outputId": "ea169791-da72-4272-ed62-e0119b6a4001"
      },
      "execution_count": 15,
      "outputs": [
        {
          "output_type": "stream",
          "name": "stdout",
          "text": [
            "apple\n",
            "banana\n",
            "orange\n",
            "grape\n"
          ]
        }
      ]
    },
    {
      "cell_type": "code",
      "source": [
        "print(t[0])\n",
        "print(t[1])\n",
        "print(t[2])\n",
        "print(t[3])"
      ],
      "metadata": {
        "colab": {
          "base_uri": "https://localhost:8080/"
        },
        "id": "BlYfLXCTdgoZ",
        "outputId": "84fd96d4-16cd-4722-8550-03b9267738ec"
      },
      "execution_count": 16,
      "outputs": [
        {
          "output_type": "stream",
          "name": "stdout",
          "text": [
            "apple\n",
            "banana\n",
            "orange\n",
            "grape\n"
          ]
        }
      ]
    },
    {
      "cell_type": "code",
      "source": [
        "t1 = ('apple','banana','orange')\n",
        "t2 = ('grape','pineapple')\n",
        "t = t1 + t2\n",
        "print(t)"
      ],
      "metadata": {
        "colab": {
          "base_uri": "https://localhost:8080/"
        },
        "id": "2_GecmNxdr3P",
        "outputId": "0689455f-6f1d-4e7c-ae62-c8c49a36e450"
      },
      "execution_count": 17,
      "outputs": [
        {
          "output_type": "stream",
          "name": "stdout",
          "text": [
            "('apple', 'banana', 'orange', 'grape', 'pineapple')\n"
          ]
        }
      ]
    },
    {
      "cell_type": "code",
      "source": [
        "a = dict(name='oxxo',age=18,eat=['apple','banana'])\n",
        "print(a)\n",
        "print(type(a))"
      ],
      "metadata": {
        "colab": {
          "base_uri": "https://localhost:8080/"
        },
        "id": "Xk5rBEgafEIH",
        "outputId": "1b4eedad-d94a-4e22-8973-33ca4459bb4b"
      },
      "execution_count": 19,
      "outputs": [
        {
          "output_type": "stream",
          "name": "stdout",
          "text": [
            "{'name': 'oxxo', 'age': 18, 'eat': ['apple', 'banana']}\n",
            "<class 'dict'>\n"
          ]
        }
      ]
    },
    {
      "cell_type": "markdown",
      "source": [
        "<h1>def</h1>"
      ],
      "metadata": {
        "id": "Tq9u9HqVtHjj"
      }
    },
    {
      "cell_type": "code",
      "source": [
        "def test(x, y, z):\n",
        "  return x+1, y+1, z+1\n",
        "a = test(1, 2, 3)\n",
        "print(a)"
      ],
      "metadata": {
        "colab": {
          "base_uri": "https://localhost:8080/"
        },
        "id": "YIxQ2ZPNhPQf",
        "outputId": "cb44731f-f789-43a8-cd35-1e305f3276c8"
      },
      "execution_count": 20,
      "outputs": [
        {
          "output_type": "stream",
          "name": "stdout",
          "text": [
            "(2, 3, 4)\n"
          ]
        }
      ]
    },
    {
      "cell_type": "markdown",
      "source": [
        "<h1>if</h1>"
      ],
      "metadata": {
        "id": "VtECfuNYtCgE"
      }
    },
    {
      "cell_type": "code",
      "source": [
        "a = 2\n",
        "b = 3\n",
        "if a < b:\n",
        "  print('a<b')\n",
        "  if a == 1:\n",
        "    print('a=1')\n",
        "  elif a == 2:\n",
        "    print('a=2')\n",
        "  elif a == 3:\n",
        "    print('a=3')\n",
        "elif a > b:\n",
        "  print('a>b')\n",
        "else:\n",
        "  print('a=b')\n",
        "print('ok')"
      ],
      "metadata": {
        "colab": {
          "base_uri": "https://localhost:8080/"
        },
        "id": "XuZ4BgO7pVnB",
        "outputId": "14625c92-ea46-49b7-a237-325d8bf459ff"
      },
      "execution_count": 25,
      "outputs": [
        {
          "output_type": "stream",
          "name": "stdout",
          "text": [
            "a<b\n",
            "a=2\n",
            "ok\n"
          ]
        }
      ]
    },
    {
      "cell_type": "code",
      "source": [
        "a = 2\n",
        "b = 3\n",
        "c = 0\n",
        "if a>b or a<c and a==2 or b==4:\n",
        "  print('ok1')\n",
        "else:\n",
        "  print('XXX')"
      ],
      "metadata": {
        "colab": {
          "base_uri": "https://localhost:8080/"
        },
        "id": "l-yPi7rLpYpR",
        "outputId": "b9459a29-551b-44c0-ac29-86bac9f47133"
      },
      "execution_count": 26,
      "outputs": [
        {
          "output_type": "stream",
          "name": "stdout",
          "text": [
            "XXX\n"
          ]
        }
      ]
    },
    {
      "cell_type": "markdown",
      "source": [
        "<h1>for迴圈</h1>"
      ],
      "metadata": {
        "id": "Oq0nYv2QskSU"
      }
    },
    {
      "cell_type": "code",
      "source": [
        "for i in 'abc':\n",
        "  print(i)"
      ],
      "metadata": {
        "colab": {
          "base_uri": "https://localhost:8080/"
        },
        "id": "6dg4ChsSr-AX",
        "outputId": "26da77fa-6022-4167-addc-b90462f2553b"
      },
      "execution_count": 27,
      "outputs": [
        {
          "output_type": "stream",
          "name": "stdout",
          "text": [
            "a\n",
            "b\n",
            "c\n"
          ]
        }
      ]
    },
    {
      "cell_type": "code",
      "source": [
        "for a in ['x','y','z']:\n",
        "  for b in [1,2,3]:\n",
        "    print(b)\n",
        "  print(a)"
      ],
      "metadata": {
        "colab": {
          "base_uri": "https://localhost:8080/"
        },
        "id": "S9Gc_c0vsEG9",
        "outputId": "23d6ee54-7b77-4fb4-f817-06aa5c33ba64"
      },
      "execution_count": 28,
      "outputs": [
        {
          "output_type": "stream",
          "name": "stdout",
          "text": [
            "1\n",
            "2\n",
            "3\n",
            "x\n",
            "1\n",
            "2\n",
            "3\n",
            "y\n",
            "1\n",
            "2\n",
            "3\n",
            "z\n"
          ]
        }
      ]
    },
    {
      "cell_type": "code",
      "source": [
        "for a in ['x','y','z']:\n",
        "  for b in [1,2,3]:\n",
        "    print(f'{a}{b}')"
      ],
      "metadata": {
        "colab": {
          "base_uri": "https://localhost:8080/"
        },
        "id": "setW5_rJsaav",
        "outputId": "12637a3f-122d-4d69-ff20-3d287f1c4f94"
      },
      "execution_count": 29,
      "outputs": [
        {
          "output_type": "stream",
          "name": "stdout",
          "text": [
            "x1\n",
            "x2\n",
            "x3\n",
            "y1\n",
            "y2\n",
            "y3\n",
            "z1\n",
            "z2\n",
            "z3\n"
          ]
        }
      ]
    },
    {
      "cell_type": "markdown",
      "source": [
        "<h1>input</h1>"
      ],
      "metadata": {
        "id": "muiaGGgktrAV"
      }
    },
    {
      "cell_type": "code",
      "source": [
        "a = input('輸入數字：')\n",
        "print(int(a)+1)"
      ],
      "metadata": {
        "colab": {
          "base_uri": "https://localhost:8080/"
        },
        "id": "VrSA69DHtbSG",
        "outputId": "a8c9b58d-3a1a-49cf-b884-473b7642839a"
      },
      "execution_count": 31,
      "outputs": [
        {
          "output_type": "stream",
          "name": "stdout",
          "text": [
            "輸入數字：5\n",
            "6\n"
          ]
        }
      ]
    },
    {
      "cell_type": "markdown",
      "source": [
        "<h1>try/except</h1>"
      ],
      "metadata": {
        "id": "PQxMH62SuBI0"
      }
    },
    {
      "cell_type": "code",
      "source": [
        "try:\n",
        "  a = input('輸入數字：')\n",
        "  print(a+1)\n",
        "except:\n",
        "  print('X')"
      ],
      "metadata": {
        "colab": {
          "base_uri": "https://localhost:8080/"
        },
        "id": "M25wJDuMtayH",
        "outputId": "021d0548-3f76-4ab0-ed26-685e23fa5ea0"
      },
      "execution_count": 32,
      "outputs": [
        {
          "output_type": "stream",
          "name": "stdout",
          "text": [
            "輸入數字：5\n",
            "X\n"
          ]
        }
      ]
    },
    {
      "cell_type": "markdown",
      "source": [
        "<h1>append、串列生成式</h1>"
      ],
      "metadata": {
        "id": "zBklb6h4uXMF"
      }
    },
    {
      "cell_type": "code",
      "source": [
        "a = []\n",
        "for i in range(1,10):\n",
        "  a.append(i*i)\n",
        "print(a)\n",
        "\n",
        "b = [j*j for j in range(1,10)]\n",
        "print(b)"
      ],
      "metadata": {
        "colab": {
          "base_uri": "https://localhost:8080/"
        },
        "id": "1LuHio1EuEJl",
        "outputId": "2fc29ff2-3b7e-4c0e-d694-69f19f8a18c0"
      },
      "execution_count": 34,
      "outputs": [
        {
          "output_type": "stream",
          "name": "stdout",
          "text": [
            "[1, 4, 9, 16, 25, 36, 49, 64, 81]\n",
            "[1, 4, 9, 16, 25, 36, 49, 64, 81]\n"
          ]
        }
      ]
    }
  ]
}